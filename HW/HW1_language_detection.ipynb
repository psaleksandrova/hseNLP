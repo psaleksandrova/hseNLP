{
  "nbformat": 4,
  "nbformat_minor": 0,
  "metadata": {
    "kernelspec": {
      "display_name": "Python 3",
      "language": "python",
      "name": "python3"
    },
    "language_info": {
      "codemirror_mode": {
        "name": "ipython",
        "version": 3
      },
      "file_extension": ".py",
      "mimetype": "text/x-python",
      "name": "python",
      "nbconvert_exporter": "python",
      "pygments_lexer": "ipython3",
      "version": "3.6.8"
    },
    "colab": {
      "name": "HW1_language_detection.ipynb",
      "provenance": [],
      "collapsed_sections": []
    }
  },
  "cells": [
    {
      "cell_type": "markdown",
      "metadata": {
        "id": "hDZGxF3kp8mr",
        "colab_type": "text"
      },
      "source": [
        "# Определение языка и VK API"
      ]
    },
    {
      "cell_type": "markdown",
      "metadata": {
        "id": "YwH3kakWp8mw",
        "colab_type": "text"
      },
      "source": [
        "В данном задании вам нужно будет:\n",
        "\n",
        "* используя API Вконтакте, скачать комментарии к первым ста постам из пяти сообществ\n",
        "* натренировать модель распознавания языков на статьях из Википедии.\n",
        "* распознать язык всех комментариев, где в тексте есть 10 и более символов, и построить статистику"
      ]
    },
    {
      "cell_type": "markdown",
      "metadata": {
        "id": "pRF5vfbWp8mz",
        "colab_type": "text"
      },
      "source": [
        "## VK API"
      ]
    },
    {
      "cell_type": "markdown",
      "metadata": {
        "id": "CheR344lp8m1",
        "colab_type": "text"
      },
      "source": [
        "Для подключения к ВКонтакте мы будем использовать VK API. Здесь есть документация к этой библиотеке https://vk-api.readthedocs.io/en/latest/"
      ]
    },
    {
      "cell_type": "code",
      "metadata": {
        "id": "XzeVEglyp8m2",
        "colab_type": "code",
        "outputId": "8afc8977-6480-491b-b87d-48b4e2a8ac36",
        "colab": {
          "base_uri": "https://localhost:8080/",
          "height": 272
        }
      },
      "source": [
        "#!pip3 install vk_api"
      ],
      "execution_count": 0,
      "outputs": [
        {
          "output_type": "stream",
          "text": [
            "Collecting vk_api\n",
            "  Downloading https://files.pythonhosted.org/packages/15/3d/47039cfb29e9f1e76dfd5486e90e6bb60579925ef83e8990093779c9cca9/vk_api-11.5.0.tar.gz\n",
            "Requirement already satisfied: requests in /usr/local/lib/python3.6/dist-packages (from vk_api) (2.21.0)\n",
            "Requirement already satisfied: six in /usr/local/lib/python3.6/dist-packages (from vk_api) (1.12.0)\n",
            "Requirement already satisfied: urllib3<1.25,>=1.21.1 in /usr/local/lib/python3.6/dist-packages (from requests->vk_api) (1.24.3)\n",
            "Requirement already satisfied: idna<2.9,>=2.5 in /usr/local/lib/python3.6/dist-packages (from requests->vk_api) (2.8)\n",
            "Requirement already satisfied: chardet<3.1.0,>=3.0.2 in /usr/local/lib/python3.6/dist-packages (from requests->vk_api) (3.0.4)\n",
            "Requirement already satisfied: certifi>=2017.4.17 in /usr/local/lib/python3.6/dist-packages (from requests->vk_api) (2019.6.16)\n",
            "Building wheels for collected packages: vk-api\n",
            "  Building wheel for vk-api (setup.py) ... \u001b[?25l\u001b[?25hdone\n",
            "  Created wheel for vk-api: filename=vk_api-11.5.0-cp36-none-any.whl size=40928 sha256=7f499243d96f021c80e916a35f95bf239edd0aa85af0d7380bb7386e7209e580\n",
            "  Stored in directory: /root/.cache/pip/wheels/a8/6a/53/d90ca4ed187200fa58336eeb057f5c75e4febe83f47538a1e2\n",
            "Successfully built vk-api\n",
            "Installing collected packages: vk-api\n",
            "Successfully installed vk-api-11.5.0\n"
          ],
          "name": "stdout"
        }
      ]
    },
    {
      "cell_type": "code",
      "metadata": {
        "scrolled": true,
        "id": "4A2ehGswp8m9",
        "colab_type": "code",
        "colab": {}
      },
      "source": [
        "import vk_api\n",
        "\n",
        "# здесь нужно ввести данные своего аккаунта\n",
        "# когда будете сдавать, не забудьте убрать эти две строчки из ноутбука\n",
        "user = '+79778221851' # вставьте сюда свой номер телефона\n",
        "password = 'po4emubiinet' # вставьте сюда свой пароль\n",
        "\n",
        "# авторизация\n",
        "vk_session = vk_api.VkApi(login=user, password=password)\n",
        "vk_session.auth()\n",
        "\n",
        "vk = vk_session.get_api() # объект с API"
      ],
      "execution_count": 0,
      "outputs": []
    },
    {
      "cell_type": "markdown",
      "metadata": {
        "id": "knyTcFRtp8nB",
        "colab_type": "text"
      },
      "source": [
        "Получить записи со страницы можно с помощью метода `wall.get`. Он принимает параметр `domain` — короткое имя пользователя или сообщества — и `count` — количество записей, которое вы хотите получить (максимум — 100). По Список методов для работы со стенами: https://vk.com/dev/wall"
      ]
    },
    {
      "cell_type": "markdown",
      "metadata": {
        "id": "BSDNxpuBp8nL",
        "colab_type": "text"
      },
      "source": [
        "Например, вот так можно получить последние две записи с вот этой страницы https://vk.com/futureisnow. Выдача представляет собой словарь, в котором в поле `items` записан список словарей, содержащий информацию о каждой из записи. "
      ]
    },
    {
      "cell_type": "code",
      "metadata": {
        "scrolled": true,
        "id": "tOkQgcsUp8nN",
        "colab_type": "code",
        "outputId": "226b3d38-7d30-44eb-8d3e-efe4526b74ad",
        "colab": {
          "base_uri": "https://localhost:8080/",
          "height": 1000
        }
      },
      "source": [
        "vk.wall.get(domain=\"futureisnow\", count=2)"
      ],
      "execution_count": 0,
      "outputs": [
        {
          "output_type": "execute_result",
          "data": {
            "text/plain": [
              "{'count': 8205,\n",
              " 'items': [{'attachments': [{'photo': {'access_key': 'f355ac34e128abc3cb',\n",
              "      'album_id': -7,\n",
              "      'date': 1569676318,\n",
              "      'id': 457288578,\n",
              "      'lat': 55.893734,\n",
              "      'long': 37.416795,\n",
              "      'owner_id': -111587102,\n",
              "      'sizes': [{'height': 130,\n",
              "        'type': 'm',\n",
              "        'url': 'https://sun1-83.userapi.com/c854228/v854228018/108b9f/gN-udeeZR7k.jpg',\n",
              "        'width': 73},\n",
              "       {'height': 231,\n",
              "        'type': 'o',\n",
              "        'url': 'https://sun1-28.userapi.com/c854228/v854228018/108ba4/b55ldRs-A1A.jpg',\n",
              "        'width': 130},\n",
              "       {'height': 355,\n",
              "        'type': 'p',\n",
              "        'url': 'https://sun1-30.userapi.com/c854228/v854228018/108ba5/DOgmvMFBwoo.jpg',\n",
              "        'width': 200},\n",
              "       {'height': 568,\n",
              "        'type': 'q',\n",
              "        'url': 'https://sun1-87.userapi.com/c854228/v854228018/108ba6/2pkhKcvu-BU.jpg',\n",
              "        'width': 320},\n",
              "       {'height': 900,\n",
              "        'type': 'r',\n",
              "        'url': 'https://sun1-24.userapi.com/c854228/v854228018/108ba7/uXqATNeThws.jpg',\n",
              "        'width': 510},\n",
              "       {'height': 75,\n",
              "        'type': 's',\n",
              "        'url': 'https://sun1-14.userapi.com/c854228/v854228018/108b9e/fy6bWd3GpzU.jpg',\n",
              "        'width': 42},\n",
              "       {'height': 1280,\n",
              "        'type': 'w',\n",
              "        'url': 'https://sun1-87.userapi.com/c854228/v854228018/108ba3/O0k_FFR-krA.jpg',\n",
              "        'width': 721},\n",
              "       {'height': 604,\n",
              "        'type': 'x',\n",
              "        'url': 'https://sun1-14.userapi.com/c854228/v854228018/108ba0/fouriyJyq9o.jpg',\n",
              "        'width': 340},\n",
              "       {'height': 807,\n",
              "        'type': 'y',\n",
              "        'url': 'https://sun1-17.userapi.com/c854228/v854228018/108ba1/Rah827XlPvE.jpg',\n",
              "        'width': 454},\n",
              "       {'height': 1080,\n",
              "        'type': 'z',\n",
              "        'url': 'https://sun1-91.userapi.com/c854228/v854228018/108ba2/ukXR6RVruqU.jpg',\n",
              "        'width': 608}],\n",
              "      'text': '',\n",
              "      'user_id': 100},\n",
              "     'type': 'photo'},\n",
              "    {'photo': {'access_key': '8aa41ac8797d411335',\n",
              "      'album_id': -7,\n",
              "      'date': 1569676318,\n",
              "      'id': 457288579,\n",
              "      'lat': 55.893466,\n",
              "      'long': 37.415588,\n",
              "      'owner_id': -111587102,\n",
              "      'sizes': [{'height': 130,\n",
              "        'type': 'm',\n",
              "        'url': 'https://sun1-83.userapi.com/c851536/v851536018/1dba79/tBfSDL_V3Ww.jpg',\n",
              "        'width': 73},\n",
              "       {'height': 231,\n",
              "        'type': 'o',\n",
              "        'url': 'https://sun1-16.userapi.com/c851536/v851536018/1dba7e/i7_dMmbxt2Q.jpg',\n",
              "        'width': 130},\n",
              "       {'height': 355,\n",
              "        'type': 'p',\n",
              "        'url': 'https://sun1-93.userapi.com/c851536/v851536018/1dba7f/BrrxFh6r4pw.jpg',\n",
              "        'width': 200},\n",
              "       {'height': 568,\n",
              "        'type': 'q',\n",
              "        'url': 'https://sun1-83.userapi.com/c851536/v851536018/1dba80/OIPX9zMZ4Ro.jpg',\n",
              "        'width': 320},\n",
              "       {'height': 900,\n",
              "        'type': 'r',\n",
              "        'url': 'https://sun1-26.userapi.com/c851536/v851536018/1dba81/GNzXLbhTReI.jpg',\n",
              "        'width': 510},\n",
              "       {'height': 75,\n",
              "        'type': 's',\n",
              "        'url': 'https://sun1-22.userapi.com/c851536/v851536018/1dba78/1oeBheeuIGo.jpg',\n",
              "        'width': 42},\n",
              "       {'height': 1280,\n",
              "        'type': 'w',\n",
              "        'url': 'https://sun1-91.userapi.com/c851536/v851536018/1dba7d/J3cvdc5BBzk.jpg',\n",
              "        'width': 721},\n",
              "       {'height': 604,\n",
              "        'type': 'x',\n",
              "        'url': 'https://sun1-22.userapi.com/c851536/v851536018/1dba7a/2FW2D6-u5x0.jpg',\n",
              "        'width': 340},\n",
              "       {'height': 807,\n",
              "        'type': 'y',\n",
              "        'url': 'https://sun1-19.userapi.com/c851536/v851536018/1dba7b/lQggk60KpLA.jpg',\n",
              "        'width': 454},\n",
              "       {'height': 1080,\n",
              "        'type': 'z',\n",
              "        'url': 'https://sun1-19.userapi.com/c851536/v851536018/1dba7c/o8K1O2HC9iM.jpg',\n",
              "        'width': 608}],\n",
              "      'text': '',\n",
              "      'user_id': 100},\n",
              "     'type': 'photo'},\n",
              "    {'photo': {'access_key': '848bd5f7cb1d64918a',\n",
              "      'album_id': -7,\n",
              "      'date': 1569676318,\n",
              "      'id': 457288580,\n",
              "      'owner_id': -111587102,\n",
              "      'sizes': [{'height': 130,\n",
              "        'type': 'm',\n",
              "        'url': 'https://sun1-21.userapi.com/c851032/v851032018/1c2e6f/SmhYf4pQyM8.jpg',\n",
              "        'width': 73},\n",
              "       {'height': 231,\n",
              "        'type': 'o',\n",
              "        'url': 'https://sun1-26.userapi.com/c851032/v851032018/1c2e74/i5Hjp8A21bY.jpg',\n",
              "        'width': 130},\n",
              "       {'height': 355,\n",
              "        'type': 'p',\n",
              "        'url': 'https://sun1-93.userapi.com/c851032/v851032018/1c2e75/7q1TAlioRKc.jpg',\n",
              "        'width': 200},\n",
              "       {'height': 568,\n",
              "        'type': 'q',\n",
              "        'url': 'https://sun1-29.userapi.com/c851032/v851032018/1c2e76/vo2rcpbwuu0.jpg',\n",
              "        'width': 320},\n",
              "       {'height': 900,\n",
              "        'type': 'r',\n",
              "        'url': 'https://sun1-27.userapi.com/c851032/v851032018/1c2e77/GDQUnHXDPbU.jpg',\n",
              "        'width': 510},\n",
              "       {'height': 75,\n",
              "        'type': 's',\n",
              "        'url': 'https://sun1-83.userapi.com/c851032/v851032018/1c2e6e/NHaBMUVcMms.jpg',\n",
              "        'width': 42},\n",
              "       {'height': 1280,\n",
              "        'type': 'w',\n",
              "        'url': 'https://sun1-26.userapi.com/c851032/v851032018/1c2e73/EyNrrVpSF_s.jpg',\n",
              "        'width': 721},\n",
              "       {'height': 604,\n",
              "        'type': 'x',\n",
              "        'url': 'https://sun1-21.userapi.com/c851032/v851032018/1c2e70/7UP8OX3rB1E.jpg',\n",
              "        'width': 340},\n",
              "       {'height': 807,\n",
              "        'type': 'y',\n",
              "        'url': 'https://sun1-83.userapi.com/c851032/v851032018/1c2e71/SYpz3-TvckI.jpg',\n",
              "        'width': 454},\n",
              "       {'height': 1080,\n",
              "        'type': 'z',\n",
              "        'url': 'https://sun1-22.userapi.com/c851032/v851032018/1c2e72/UixlXq4WYkc.jpg',\n",
              "        'width': 608}],\n",
              "      'text': '',\n",
              "      'user_id': 100},\n",
              "     'type': 'photo'}],\n",
              "   'comments': {'can_post': 1, 'count': 17, 'groups_can_post': True},\n",
              "   'date': 1569779100,\n",
              "   'from_id': -111587102,\n",
              "   'id': 250704,\n",
              "   'is_favorite': False,\n",
              "   'likes': {'can_like': 1, 'can_publish': 1, 'count': 198, 'user_likes': 0},\n",
              "   'marked_as_ads': 0,\n",
              "   'owner_id': -111587102,\n",
              "   'post_source': {'type': 'vk'},\n",
              "   'post_type': 'post',\n",
              "   'reposts': {'count': 7, 'user_reposted': 0},\n",
              "   'signer_id': 20087600,\n",
              "   'text': 'I never asked for this.',\n",
              "   'views': {'count': 5101}},\n",
              "  {'attachments': [{'photo': {'access_key': 'd6e8dd0949570eda2f',\n",
              "      'album_id': -7,\n",
              "      'date': 1569676539,\n",
              "      'id': 457288581,\n",
              "      'owner_id': -111587102,\n",
              "      'post_id': 250153,\n",
              "      'sizes': [{'height': 130,\n",
              "        'type': 'm',\n",
              "        'url': 'https://sun1-25.userapi.com/c857524/v857524357/85997/0Tb8wXGbzvY.jpg',\n",
              "        'width': 97},\n",
              "       {'height': 173,\n",
              "        'type': 'o',\n",
              "        'url': 'https://sun1-89.userapi.com/c857524/v857524357/8599c/b7wzC6mQ_xs.jpg',\n",
              "        'width': 130},\n",
              "       {'height': 267,\n",
              "        'type': 'p',\n",
              "        'url': 'https://sun1-94.userapi.com/c857524/v857524357/8599d/nOGmukFPS8I.jpg',\n",
              "        'width': 200},\n",
              "       {'height': 427,\n",
              "        'type': 'q',\n",
              "        'url': 'https://sun1-93.userapi.com/c857524/v857524357/8599e/0HGb62kVI88.jpg',\n",
              "        'width': 320},\n",
              "       {'height': 680,\n",
              "        'type': 'r',\n",
              "        'url': 'https://sun1-93.userapi.com/c857524/v857524357/8599f/dmEXLF-lE_w.jpg',\n",
              "        'width': 510},\n",
              "       {'height': 75,\n",
              "        'type': 's',\n",
              "        'url': 'https://sun1-16.userapi.com/c857524/v857524357/85996/STHJxwfuzTQ.jpg',\n",
              "        'width': 56},\n",
              "       {'height': 1376,\n",
              "        'type': 'w',\n",
              "        'url': 'https://sun1-25.userapi.com/c857524/v857524357/8599b/d_tOT0HEcfg.jpg',\n",
              "        'width': 1032},\n",
              "       {'height': 604,\n",
              "        'type': 'x',\n",
              "        'url': 'https://sun1-30.userapi.com/c857524/v857524357/85998/nJKvYp5earU.jpg',\n",
              "        'width': 453},\n",
              "       {'height': 807,\n",
              "        'type': 'y',\n",
              "        'url': 'https://sun1-23.userapi.com/c857524/v857524357/85999/XkifMK1j-Bw.jpg',\n",
              "        'width': 605},\n",
              "       {'height': 1080,\n",
              "        'type': 'z',\n",
              "        'url': 'https://sun1-28.userapi.com/c857524/v857524357/8599a/abfSACE5GRg.jpg',\n",
              "        'width': 810}],\n",
              "      'text': '',\n",
              "      'user_id': 100},\n",
              "     'type': 'photo'}],\n",
              "   'comments': {'can_post': 1, 'count': 12, 'groups_can_post': True},\n",
              "   'date': 1569775500,\n",
              "   'from_id': -111587102,\n",
              "   'id': 250681,\n",
              "   'is_favorite': False,\n",
              "   'likes': {'can_like': 1, 'can_publish': 1, 'count': 119, 'user_likes': 0},\n",
              "   'marked_as_ads': 0,\n",
              "   'owner_id': -111587102,\n",
              "   'post_source': {'type': 'vk'},\n",
              "   'post_type': 'post',\n",
              "   'reposts': {'count': 0, 'user_reposted': 0},\n",
              "   'signer_id': 518604702,\n",
              "   'text': '',\n",
              "   'views': {'count': 10172}}]}"
            ]
          },
          "metadata": {
            "tags": []
          },
          "execution_count": 190
        }
      ]
    },
    {
      "cell_type": "markdown",
      "metadata": {
        "id": "QeExsgJ_p8nT",
        "colab_type": "text"
      },
      "source": [
        "С помощью метода `groups.getById` можно получить информацию о сообществе, в том числе его id."
      ]
    },
    {
      "cell_type": "code",
      "metadata": {
        "id": "Rw0vrIMdp8nZ",
        "colab_type": "code",
        "outputId": "97b01be1-4e49-4774-fb3d-ac708a372f93",
        "colab": {
          "base_uri": "https://localhost:8080/",
          "height": 204
        }
      },
      "source": [
        "vk.groups.getById(group_ids=\"futureisnow\")"
      ],
      "execution_count": 0,
      "outputs": [
        {
          "output_type": "execute_result",
          "data": {
            "text/plain": [
              "[{'id': 111587102,\n",
              "  'is_admin': 0,\n",
              "  'is_advertiser': 0,\n",
              "  'is_closed': 0,\n",
              "  'is_member': 0,\n",
              "  'name': 'киберпанк, который мы заслужили',\n",
              "  'photo_100': 'https://sun1-14.userapi.com/c845124/v845124938/4b878/Lr9NW4jLxOU.jpg?ava=1',\n",
              "  'photo_200': 'https://sun1-85.userapi.com/c845124/v845124938/4b877/dqfgJ42Ir5E.jpg?ava=1',\n",
              "  'photo_50': 'https://sun1-29.userapi.com/c845124/v845124938/4b879/-EzOFg-vjTg.jpg?ava=1',\n",
              "  'screen_name': 'futureisnow',\n",
              "  'type': 'page'}]"
            ]
          },
          "metadata": {
            "tags": []
          },
          "execution_count": 191
        }
      ]
    },
    {
      "cell_type": "markdown",
      "metadata": {
        "id": "p7bVy1jNp8nf",
        "colab_type": "text"
      },
      "source": [
        "Скачайте информацию о последних ста записях в следующих пабликах: https://vk.com/futureisnow, https://vk.com/eternalclassic, https://vk.com/ukrlit_memes, https://vk.com/ukrainer_net, https://vk.com/amanzohel, https://vk.com/barg_kurumk_culture"
      ]
    },
    {
      "cell_type": "code",
      "metadata": {
        "id": "JGucVvEqp8ni",
        "colab_type": "code",
        "colab": {}
      },
      "source": [
        "# список domain'ов, чтобы вам не копировать их самими :)\n",
        "publics = [\"futureisnow\",\n",
        "           \"eternalclassic\",\n",
        "           \"ukrlit_memes\",\n",
        "           \"ukrainer_net\",\n",
        "           \"amanzohel\",\n",
        "           \"barg_kurumk_culture\"]"
      ],
      "execution_count": 0,
      "outputs": []
    },
    {
      "cell_type": "code",
      "metadata": {
        "id": "q5pNyXMXp8n3",
        "colab_type": "code",
        "colab": {}
      },
      "source": [
        "items = {} # ключи — это паблики\n",
        "\n",
        "for public in publics:\n",
        "    items[public] = vk.wall.get(domain=public, count=100)"
      ],
      "execution_count": 0,
      "outputs": []
    },
    {
      "cell_type": "markdown",
      "metadata": {
        "id": "XubwqjTKp8n7",
        "colab_type": "text"
      },
      "source": [
        "Найдите в документации (https://vk.com/dev/wall) метод для получения комментариев и получите первые сто комментариев каждого поста из выборки для каждого паблика."
      ]
    },
    {
      "cell_type": "code",
      "metadata": {
        "id": "xOS_8KMHp8n8",
        "colab_type": "code",
        "colab": {}
      },
      "source": [
        "corpora = {}\n",
        "\n",
        "for public in publics:\n",
        "    corpora[public] = {}\n",
        "    owner_id = items[public]['items'][0]['owner_id']\n",
        "    for i in range(100):\n",
        "        post_id = items[public]['items'][i]['id']\n",
        "        info_comments = vk.wall.getComments(owner_id=owner_id, post_id=post_id,\n",
        "                                            count=100)\n",
        "        # проверяем, есть ли вообще комментарии\n",
        "        if info_comments['count'] > 0:\n",
        "            # сохраняем только текст комментариев\n",
        "            corpora[public][post_id] = {}\n",
        "            cnt = 0\n",
        "            for j in range(len(info_comments['items'])):\n",
        "                if 'text' in info_comments['items'][j]:\n",
        "                    if len(info_comments['items'][j]['text']) >= 10:\n",
        "                        corpora[public][post_id][cnt] = info_comments['items'][j]['text']\n",
        "                        cnt += 1"
      ],
      "execution_count": 0,
      "outputs": []
    },
    {
      "cell_type": "markdown",
      "metadata": {
        "id": "gPDNJEEQp8oA",
        "colab_type": "text"
      },
      "source": [
        "**Задание со звездочкой:** вы могли заметить, что если обращаться к каждому посту отдельно, то все занимает довольно продолжительное время (около пяти минут). Найдите в документации vk_api способ сделать это быстрее."
      ]
    },
    {
      "cell_type": "code",
      "metadata": {
        "id": "uKyNmT2Tp8oC",
        "colab_type": "code",
        "colab": {}
      },
      "source": [
        "corpora = {}\n",
        "\n",
        "# ваш улучшенный код"
      ],
      "execution_count": 0,
      "outputs": []
    },
    {
      "cell_type": "markdown",
      "metadata": {
        "id": "5eE2h7Ynp8oH",
        "colab_type": "text"
      },
      "source": [
        "## Тренировка моделей"
      ]
    },
    {
      "cell_type": "markdown",
      "metadata": {
        "id": "9KwIyHoUp8oI",
        "colab_type": "text"
      },
      "source": [
        "В наших комментариях встречались русский, украинский, английский и бурятский."
      ]
    },
    {
      "cell_type": "code",
      "metadata": {
        "id": "nCu4QMBOp8oJ",
        "colab_type": "code",
        "colab": {}
      },
      "source": [
        "langs = {'ru', 'uk', 'en', 'bxr'}"
      ],
      "execution_count": 0,
      "outputs": []
    },
    {
      "cell_type": "markdown",
      "metadata": {
        "id": "vrqmUgKrp8oL",
        "colab_type": "text"
      },
      "source": [
        "Скачайте документы, на которых вы будете обучать свои модели. Для наших целей хорошо иметь для каждого языка корпус размером около 50 статей."
      ]
    },
    {
      "cell_type": "code",
      "metadata": {
        "id": "YLSVCHN5g_G-",
        "colab_type": "code",
        "outputId": "48d0dfef-f58b-416f-c8d8-c804fdfb65c8",
        "colab": {
          "base_uri": "https://localhost:8080/",
          "height": 51
        }
      },
      "source": [
        "import nltk\n",
        "nltk.download(\"punkt\")\n",
        "import wikipedia"
      ],
      "execution_count": 0,
      "outputs": [
        {
          "output_type": "stream",
          "text": [
            "[nltk_data] Downloading package punkt to /root/nltk_data...\n",
            "[nltk_data]   Package punkt is already up-to-date!\n"
          ],
          "name": "stdout"
        }
      ]
    },
    {
      "cell_type": "code",
      "metadata": {
        "id": "iMjxwiOPp8oM",
        "colab_type": "code",
        "colab": {}
      },
      "source": [
        "def get_texts_for_lang(lang, n=10):\n",
        "    wiki_content = []\n",
        "    wikipedia.set_lang(lang)\n",
        "    pages = wikipedia.random(n)\n",
        "    for page_name in pages:\n",
        "        try:\n",
        "            page = wikipedia.page(page_name)\n",
        "            wiki_content.append(\"%s\\n%s\" % (page.title, page.content.replace('=', '')))\n",
        "        except wikipedia.exceptions.WikipediaException:\n",
        "            print(\"Skip %s\" % page_name)\n",
        "    return wiki_content"
      ],
      "execution_count": 0,
      "outputs": []
    },
    {
      "cell_type": "code",
      "metadata": {
        "id": "9h07OfbLhSMj",
        "colab_type": "code",
        "outputId": "c4ae1d91-a334-48f3-8bbd-c5147dbbac4c",
        "colab": {
          "base_uri": "https://localhost:8080/",
          "height": 462
        }
      },
      "source": [
        "wiki_texts = {}\n",
        "for lang in langs:\n",
        "    wiki_texts[lang] = get_texts_for_lang(lang, 50)\n",
        "    print(lang, len(wiki_texts[lang]))"
      ],
      "execution_count": 0,
      "outputs": [
        {
          "output_type": "stream",
          "text": [
            "bxr 50\n"
          ],
          "name": "stdout"
        },
        {
          "output_type": "stream",
          "text": [
            "/usr/local/lib/python3.6/dist-packages/wikipedia/wikipedia.py:389: UserWarning: No parser was explicitly specified, so I'm using the best available HTML parser for this system (\"lxml\"). This usually isn't a problem, but if you run this code on another system, or in a different virtual environment, it may use a different parser and behave differently.\n",
            "\n",
            "The code that caused this warning is on line 389 of the file /usr/local/lib/python3.6/dist-packages/wikipedia/wikipedia.py. To get rid of this warning, pass the additional argument 'features=\"lxml\"' to the BeautifulSoup constructor.\n",
            "\n",
            "  lis = BeautifulSoup(html).find_all('li')\n"
          ],
          "name": "stderr"
        },
        {
          "output_type": "stream",
          "text": [
            "Skip Сеттерхольм\n",
            "Skip Восточная конференция\n",
            "Skip Льдинка\n",
            "Skip Зентек\n",
            "Skip American Eagle (шхуна)\n",
            "Skip Варенцов, Михаил\n",
            "ru 44\n",
            "Skip Isaiah Johnson\n",
            "Skip Robert Myers\n",
            "Skip Barma\n",
            "en 47\n",
            "Skip Домашня сторінка (значення)\n",
            "Skip Панькевич\n",
            "Skip Кукурудзяна вулиця\n",
            "Skip 1077 (значення)\n",
            "Skip Голенищев-Кутузов\n",
            "Skip Межигір'я\n",
            "Skip 1810 (значення)\n",
            "uk 43\n"
          ],
          "name": "stdout"
        }
      ]
    },
    {
      "cell_type": "markdown",
      "metadata": {
        "id": "EFejvHQmp8oU",
        "colab_type": "text"
      },
      "source": [
        "Сделайте определялку на частотах слов."
      ]
    },
    {
      "cell_type": "code",
      "metadata": {
        "id": "GRmHjnYci7iu",
        "colab_type": "code",
        "colab": {}
      },
      "source": [
        "from collections import Counter"
      ],
      "execution_count": 0,
      "outputs": []
    },
    {
      "cell_type": "code",
      "metadata": {
        "id": "oD3rfrmzp8oV",
        "colab_type": "code",
        "colab": {}
      },
      "source": [
        "def collect_freqlist(wiki_pages, max_len=100):\n",
        "    freqlist = Counter()\n",
        "    # не забудем про токенизацию - nltk.word_tokenize\n",
        "    for text in wiki_pages:\n",
        "        for word in nltk.word_tokenize(text.lower()):\n",
        "            if word.isalpha():\n",
        "                freqlist[word] += 1\n",
        "    return dict(freqlist.most_common(max_len))"
      ],
      "execution_count": 0,
      "outputs": []
    },
    {
      "cell_type": "code",
      "metadata": {
        "id": "HLMFhvZJjRhI",
        "colab_type": "code",
        "colab": {}
      },
      "source": [
        "freq_lists = {}\n",
        "for lang in langs:\n",
        "    freq_lists[lang] = collect_freqlist(wiki_texts[lang])"
      ],
      "execution_count": 0,
      "outputs": []
    },
    {
      "cell_type": "code",
      "metadata": {
        "id": "uWeZ4GPcjURS",
        "colab_type": "code",
        "colab": {}
      },
      "source": [
        "def simple_lang_detect(freq_lists, text):\n",
        "    counts = Counter()\n",
        "    for lang, freq_list in freq_lists.items():\n",
        "        freq_list = Counter(freq_list)\n",
        "        for word in nltk.word_tokenize(text):\n",
        "            counts[lang] += int(freq_list[word] > 0)\n",
        "    return counts.most_common()"
      ],
      "execution_count": 0,
      "outputs": []
    },
    {
      "cell_type": "markdown",
      "metadata": {
        "id": "7QWVCWRAp8oZ",
        "colab_type": "text"
      },
      "source": [
        "Сделайте определялку на символьных энграммах."
      ]
    },
    {
      "cell_type": "code",
      "metadata": {
        "id": "U-JPBSW6p8oa",
        "colab_type": "code",
        "colab": {}
      },
      "source": [
        "from sklearn import feature_extraction\n",
        "from sklearn import pipeline\n",
        "from sklearn import naive_bayes\n",
        "import numpy as np"
      ],
      "execution_count": 0,
      "outputs": []
    },
    {
      "cell_type": "code",
      "metadata": {
        "id": "yM3ozzV2lvCN",
        "colab_type": "code",
        "colab": {}
      },
      "source": [
        "clf = pipeline.Pipeline([\n",
        "    ('vctr', feature_extraction.text.TfidfVectorizer(ngram_range=(1, 2), analyzer='char')),\n",
        "    ('clf', naive_bayes.MultinomialNB())\n",
        "])"
      ],
      "execution_count": 0,
      "outputs": []
    },
    {
      "cell_type": "code",
      "metadata": {
        "id": "m1vaXM608S8U",
        "colab_type": "code",
        "colab": {}
      },
      "source": [
        "all_texts = []\n",
        "lang_indices = []\n",
        "for lang in wiki_texts:\n",
        "    all_texts.extend(wiki_texts[lang])\n",
        "    lang_indices.extend([lang]*len(wiki_texts[lang]))"
      ],
      "execution_count": 0,
      "outputs": []
    },
    {
      "cell_type": "code",
      "metadata": {
        "id": "DWSzksnK8d_z",
        "colab_type": "code",
        "outputId": "230c1c09-1db4-4551-a778-23c0b9ce9a30",
        "colab": {
          "base_uri": "https://localhost:8080/",
          "height": 306
        }
      },
      "source": [
        "# Обучаем классификатор\n",
        "clf.fit(np.array(all_texts), np.array(lang_indices))"
      ],
      "execution_count": 0,
      "outputs": [
        {
          "output_type": "execute_result",
          "data": {
            "text/plain": [
              "Pipeline(memory=None,\n",
              "         steps=[('vctr',\n",
              "                 TfidfVectorizer(analyzer='char', binary=False,\n",
              "                                 decode_error='strict',\n",
              "                                 dtype=<class 'numpy.float64'>,\n",
              "                                 encoding='utf-8', input='content',\n",
              "                                 lowercase=True, max_df=1.0, max_features=None,\n",
              "                                 min_df=1, ngram_range=(1, 2), norm='l2',\n",
              "                                 preprocessor=None, smooth_idf=True,\n",
              "                                 stop_words=None, strip_accents=None,\n",
              "                                 sublinear_tf=False,\n",
              "                                 token_pattern='(?u)\\\\b\\\\w\\\\w+\\\\b',\n",
              "                                 tokenizer=None, use_idf=True,\n",
              "                                 vocabulary=None)),\n",
              "                ('clf',\n",
              "                 MultinomialNB(alpha=1.0, class_prior=None, fit_prior=True))],\n",
              "         verbose=False)"
            ]
          },
          "metadata": {
            "tags": []
          },
          "execution_count": 207
        }
      ]
    },
    {
      "cell_type": "markdown",
      "metadata": {
        "id": "iZa6Pc6ip8od",
        "colab_type": "text"
      },
      "source": [
        "# Определение языка"
      ]
    },
    {
      "cell_type": "code",
      "metadata": {
        "id": "78im7Wl_9PWm",
        "colab_type": "code",
        "colab": {}
      },
      "source": [
        "import matplotlib.pyplot as plt"
      ],
      "execution_count": 0,
      "outputs": []
    },
    {
      "cell_type": "markdown",
      "metadata": {
        "id": "S1gfFnA4p8oe",
        "colab_type": "text"
      },
      "source": [
        "Определите язык каждого комментария в каждом паблике с помощью определялки на частотах слов и покажите доли языков среди комментариев для каждого паблика."
      ]
    },
    {
      "cell_type": "code",
      "metadata": {
        "id": "5u5tL05f16Gd",
        "colab_type": "code",
        "colab": {}
      },
      "source": [
        "def add_to_dict(word, d):\n",
        "    if word in d:\n",
        "        d[word] += 1\n",
        "    else:\n",
        "        d[word] = 1"
      ],
      "execution_count": 0,
      "outputs": []
    },
    {
      "cell_type": "code",
      "metadata": {
        "id": "-0bJGpMTp8of",
        "colab_type": "code",
        "colab": {}
      },
      "source": [
        "lang_detects_freqs = {}\n",
        "for public in publics:\n",
        "    lang_detects_freqs[public] = {}\n",
        "    for i in corpora[public].keys():\n",
        "        for j in corpora[public][i].keys():\n",
        "            res = simple_lang_detect(freq_lists, corpora[public][i][j])\n",
        "            if res:\n",
        "                if res[0][1] > 0:\n",
        "                    lang = res[0][0]\n",
        "                else:\n",
        "                    lang = 'unknown'\n",
        "                add_to_dict(lang, lang_detects_freqs[public])"
      ],
      "execution_count": 0,
      "outputs": []
    },
    {
      "cell_type": "code",
      "metadata": {
        "id": "_dMbYntZEmpf",
        "colab_type": "code",
        "outputId": "df178fac-ecdc-4c17-e129-7e0fb0ec6edf",
        "colab": {
          "base_uri": "https://localhost:8080/",
          "height": 119
        }
      },
      "source": [
        "lang_detects_freqs"
      ],
      "execution_count": 0,
      "outputs": [
        {
          "output_type": "execute_result",
          "data": {
            "text/plain": [
              "{'amanzohel': {'bxr': 9, 'ru': 24, 'uk': 1, 'unknown': 223},\n",
              " 'barg_kurumk_culture': {'bxr': 21, 'ru': 93, 'uk': 4, 'unknown': 118},\n",
              " 'eternalclassic': {'bxr': 30, 'en': 442, 'unknown': 346},\n",
              " 'futureisnow': {'bxr': 5, 'en': 9, 'ru': 696, 'uk': 44, 'unknown': 474},\n",
              " 'ukrainer_net': {'ru': 42, 'uk': 87, 'unknown': 74},\n",
              " 'ukrlit_memes': {'bxr': 1, 'en': 3, 'ru': 62, 'uk': 83, 'unknown': 107}}"
            ]
          },
          "metadata": {
            "tags": []
          },
          "execution_count": 227
        }
      ]
    },
    {
      "cell_type": "code",
      "metadata": {
        "id": "eUApoeRy-f1r",
        "colab_type": "code",
        "colab": {}
      },
      "source": [
        "# функция для визуализации\n",
        "def vis(public, d, v, h):\n",
        "    axes[v, h].set_title(public)\n",
        "    counts = Counter(d)\n",
        "    axes[v, h].pie([float(v) for v in counts.values()], labels=[n for n in counts])"
      ],
      "execution_count": 0,
      "outputs": []
    },
    {
      "cell_type": "code",
      "metadata": {
        "id": "d9rsHnZr6mxa",
        "colab_type": "code",
        "outputId": "f11ecd07-57f3-44cf-de6c-08bfc46e04bc",
        "colab": {
          "base_uri": "https://localhost:8080/",
          "height": 594
        }
      },
      "source": [
        "fig, axes = plt.subplots(nrows=2, ncols=3, figsize=(25, 10))\n",
        "for i in range(len(publics)):\n",
        "    public = publics[i]\n",
        "    vis(public, lang_detects_freqs[public], i // 3, i % 3)"
      ],
      "execution_count": 0,
      "outputs": [
        {
          "output_type": "display_data",
          "data": {
            "image/png": "[encoded data removed]",
            "text/plain": [
              "<Figure size 1800x720 with 6 Axes>"
            ]
          },
          "metadata": {
            "tags": []
          }
        }
      ]
    },
    {
      "cell_type": "markdown",
      "metadata": {
        "id": "mewArpIVp8oj",
        "colab_type": "text"
      },
      "source": [
        "Сделайте то же самое для определителя на символьных энграммах."
      ]
    },
    {
      "cell_type": "code",
      "metadata": {
        "id": "C97sVafRp8ol",
        "colab_type": "code",
        "colab": {}
      },
      "source": [
        "lang_detects_ngrams = {}\n",
        "for public in publics:\n",
        "    lang_detects_ngrams[public] = {}\n",
        "    for i in corpora[public].keys():\n",
        "        if corpora[public][i].values():\n",
        "            res = clf.predict(corpora[public][i].values())\n",
        "            for lang in res:\n",
        "                add_to_dict(lang, lang_detects_ngrams[public])"
      ],
      "execution_count": 0,
      "outputs": []
    },
    {
      "cell_type": "code",
      "metadata": {
        "id": "GJMolfNoHm0l",
        "colab_type": "code",
        "outputId": "5c72c2d2-686f-4fa2-f72a-5861efcea9b8",
        "colab": {
          "base_uri": "https://localhost:8080/",
          "height": 119
        }
      },
      "source": [
        "lang_detects_ngrams"
      ],
      "execution_count": 0,
      "outputs": [
        {
          "output_type": "execute_result",
          "data": {
            "text/plain": [
              "{'amanzohel': {'bxr': 221, 'ru': 36},\n",
              " 'barg_kurumk_culture': {'bxr': 98, 'en': 1, 'ru': 136, 'uk': 1},\n",
              " 'eternalclassic': {'bxr': 2, 'en': 818},\n",
              " 'futureisnow': {'bxr': 51, 'en': 51, 'ru': 1121, 'uk': 5},\n",
              " 'ukrainer_net': {'bxr': 13, 'en': 5, 'ru': 58, 'uk': 127},\n",
              " 'ukrlit_memes': {'bxr': 13, 'en': 6, 'ru': 103, 'uk': 134}}"
            ]
          },
          "metadata": {
            "tags": []
          },
          "execution_count": 229
        }
      ]
    },
    {
      "cell_type": "code",
      "metadata": {
        "id": "VEtXAMUoHukY",
        "colab_type": "code",
        "outputId": "09557527-a031-4002-a3e7-8c2d18ff316b",
        "colab": {
          "base_uri": "https://localhost:8080/",
          "height": 594
        }
      },
      "source": [
        "fig, axes = plt.subplots(nrows=2, ncols=3, figsize=(25, 10))\n",
        "for i in range(len(publics)):\n",
        "    public = publics[i]\n",
        "    vis(public, lang_detects_ngrams[public], i // 3, i % 3)"
      ],
      "execution_count": 0,
      "outputs": [
        {
          "output_type": "display_data",
          "data": {
            "image/png": "[encoded data removed]",
            "text/plain": [
              "<Figure size 1800x720 with 6 Axes>"
            ]
          },
          "metadata": {
            "tags": []
          }
        }
      ]
    },
    {
      "cell_type": "markdown",
      "metadata": {
        "id": "9gCSWSatp8oo",
        "colab_type": "text"
      },
      "source": [
        "Обсудите работу каждого из классификаторов, обсудите ошибки, объясните разницу в результатах."
      ]
    },
    {
      "cell_type": "markdown",
      "metadata": {
        "id": "5TpD20nep8op",
        "colab_type": "text"
      },
      "source": [
        "Из-за особенности работы определителя на частотах слов пришлось ввести отдельный тег для ситуаций, когда не распознавалось ни одно из слов текста (в ином случае мы бы относили текст комментария к первому в списке языку, что, очевидно, значительно повлияло бы на правильность результата). В итоге мы получили для некоторых пабликов значительную долю нераспознанных комментариев, из-за чего легко могла возникнуть проблема малого размера выборки. Одной из причин такого явления можно назвать то, что часто за пабликом закреплены какие-то специальные слова, которые пользователь регулярно пишут в комментарии. Такие слова могут быть далеко не частотными для обычных текстов, а потому в нашем словаре частот просто не окажется подобных слов.\n",
        "\n",
        "Недолгого анализа пабликов достаточно, чтобы понять, что, в целом, определитель на частотах слов справился со своей задачей вполне прилично. Если отбросить вариант с unknown и смотреть только на оставшиеся доли, то получается следующее: в результате получились одинаковые доминирующие языки во всех пабликах, кроме amanzohel (и в этом случае поверхностный анализ паблика показывает, что прав всё-таки определитель на символьных энграммах). Кажется, что второй определитель всё же лучше справился с поставленной задачей, хотя на его работу могли повлиять похожие алфавиты языков. Тем не менее, в рамках данной задачи достаточно сложно судить о точности определителй, потому как мы не считали accuracy."
      ]
    }
  ]
}
